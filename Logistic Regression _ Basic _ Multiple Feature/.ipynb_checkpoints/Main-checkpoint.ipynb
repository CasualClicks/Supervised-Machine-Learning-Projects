{
 "cells": [
  {
   "cell_type": "code",
   "execution_count": 47,
   "id": "72df248e",
   "metadata": {},
   "outputs": [],
   "source": [
    "import numpy as np\n",
    "import matplotlib.pyplot as plt\n",
    "import pandas as pd\n",
    "from sklearn.model_selection import train_test_split\n",
    "from utils import *\n",
    "import seaborn as sns\n",
    "import random\n",
    "import math"
   ]
  },
  {
   "cell_type": "code",
   "execution_count": 17,
   "id": "e8549306",
   "metadata": {},
   "outputs": [
    {
     "name": "stdout",
     "output_type": "stream",
     "text": [
      "    Exam 1 Score  Exam 2 Score  Admission_Status\n",
      "0      34.623660     78.024693                 0\n",
      "1      30.286711     43.894998                 0\n",
      "2      35.847409     72.902198                 0\n",
      "3      60.182599     86.308552                 1\n",
      "4      79.032736     75.344376                 1\n",
      "..           ...           ...               ...\n",
      "95     83.489163     48.380286                 1\n",
      "96     42.261701     87.103851                 1\n",
      "97     99.315009     68.775409                 1\n",
      "98     55.340018     64.931938                 1\n",
      "99     74.775893     89.529813                 1\n",
      "\n",
      "[100 rows x 3 columns]\n"
     ]
    }
   ],
   "source": [
    "x = pd.read_csv(\"data/ex2data1.txt\")\n",
    "\n",
    "print(x)"
   ]
  },
  {
   "cell_type": "code",
   "execution_count": 18,
   "id": "cf0dcfc7",
   "metadata": {},
   "outputs": [
    {
     "name": "stdout",
     "output_type": "stream",
     "text": [
      "(100, 3)\n"
     ]
    }
   ],
   "source": [
    "x_new = x.to_numpy()\n",
    "print(x_new.shape)"
   ]
  },
  {
   "cell_type": "code",
   "execution_count": 19,
   "id": "401c57fb",
   "metadata": {},
   "outputs": [
    {
     "name": "stdout",
     "output_type": "stream",
     "text": [
      "first 5 elements of y are: [0. 0. 0. 1. 1.]\n",
      "\n",
      "first 5 elements of x are:    Exam 1 Score  Exam 2 Score  Admission_Status\n",
      "0     34.623660     78.024693                 0\n",
      "1     30.286711     43.894998                 0\n",
      "2     35.847409     72.902198                 0\n",
      "3     60.182599     86.308552                 1\n",
      "4     79.032736     75.344376                 1\n"
     ]
    }
   ],
   "source": [
    "y =  x_new[:,-1]\n",
    "print(f\"first 5 elements of y are: {y[:5]}\\n\")\n",
    "\n",
    "x_new = x_new[:,:-1]\n",
    "print(f\"first 5 elements of x are: {x[:5]}\")"
   ]
  },
  {
   "cell_type": "code",
   "execution_count": 20,
   "id": "6bcb463c",
   "metadata": {},
   "outputs": [
    {
     "name": "stdout",
     "output_type": "stream",
     "text": [
      "First 5 elements of training set\n",
      ": [[42.07545454 78.844786  ]\n",
      " [34.52451385 60.39634246]\n",
      " [50.4581598  75.80985953]\n",
      " [53.97105215 89.20735014]\n",
      " [57.23870632 59.51428198]]\n",
      "\n",
      "First 5 elements of cross-validation set\n",
      ": [[56.2538175  39.26147251]\n",
      " [76.97878373 47.57596365]\n",
      " [78.63542435 96.64742717]\n",
      " [35.84740877 72.90219803]\n",
      " [60.45555629 42.50840944]]\n",
      "\n",
      "First 5 elements of testing\n",
      ": [[52.04540477 69.43286012]\n",
      " [74.775893   89.5298129 ]\n",
      " [94.83450672 45.6943068 ]\n",
      " [60.45788574 73.0949981 ]\n",
      " [93.1143888  38.80067034]]\n",
      "\n",
      "Size of training set:(60, 2)\n",
      "Size of cross-validation set:(20, 2)\n",
      "Size of test set:(20, 2)\n",
      "\n",
      "First five elements in y_train are:\n",
      " [0. 0. 1. 1. 1.]\n",
      "The shape of X_train is: (60, 2)\n",
      "The shape of y_train is: (60,)\n",
      "We have m = 60 training examples\n"
     ]
    }
   ],
   "source": [
    "# SPlitting into Train_CV_Test Modules\n",
    "x_train,x_,y_train,y_ = train_test_split(x_new,y,test_size=0.4,random_state=1)\n",
    "\n",
    "x_cv,x_test,y_cv,y_test = train_test_split(x_,y_,test_size=0.5,random_state=1)\n",
    "\n",
    "print(f\"First 5 elements of training set\\n: {x_train[:5]}\\n\")\n",
    "print(f\"First 5 elements of cross-validation set\\n: {x_cv[:5]}\\n\")\n",
    "print(f\"First 5 elements of testing\\n: {x_test[:5]}\\n\")\n",
    "\n",
    "print(f\"Size of training set:{x_train.shape}\")\n",
    "print(f\"Size of cross-validation set:{x_cv.shape}\")\n",
    "print(f\"Size of test set:{x_test.shape}\\n\")\n",
    "\n",
    "print(\"First five elements in y_train are:\\n\", y_train[:5])\n",
    "\n",
    "print ('The shape of X_train is: ' + str(x_train.shape))\n",
    "print ('The shape of y_train is: ' + str(y_train.shape))\n",
    "print ('We have m = %d training examples' % (len(y_train)))"
   ]
  },
  {
   "cell_type": "code",
   "execution_count": 21,
   "id": "8f8e0757",
   "metadata": {},
   "outputs": [
    {
     "name": "stdout",
     "output_type": "stream",
     "text": [
      "Number of 1's: 38\n",
      "Number of 0's: 22\n",
      "Percentage of 1's: 63.33%\n"
     ]
    }
   ],
   "source": [
    "# Number of positive result vs number of negative result (y==1 vs y==0)\n",
    "sum=0\n",
    "for i in range(len(y_train)):\n",
    "    if y_train[i]==1:\n",
    "        sum+=1\n",
    "print(f\"Number of 1's: {sum}\")\n",
    "print(f\"Number of 0's: {len(y_train)-sum}\")\n",
    "print(f\"Percentage of 1's: {sum*100/len(y_train):.2f}%\")"
   ]
  },
  {
   "cell_type": "markdown",
   "id": "1dd12996",
   "metadata": {},
   "source": [
    "# Plotting our data"
   ]
  },
  {
   "cell_type": "code",
   "execution_count": 22,
   "id": "472e2a67",
   "metadata": {},
   "outputs": [],
   "source": [
    "def plot_data(X,y,pos_label=\"y=1\",neg_label=\"y=0\"):\n",
    "    positive = y==1\n",
    "    negative = y==0\n",
    "    \n",
    "\n",
    "    plt.plot(X[positive, 0], X[positive, 1], 'k+', label=pos_label)\n",
    "    plt.plot(X[negative, 0], X[negative, 1], 'yo', label=neg_label)"
   ]
  },
  {
   "cell_type": "code",
   "execution_count": 23,
   "id": "cfce3201",
   "metadata": {},
   "outputs": [
    {
     "data": {
      "image/png": "[encoded data removed]",
      "text/plain": [
       "<Figure size 640x480 with 1 Axes>"
      ]
     },
     "metadata": {},
     "output_type": "display_data"
    }
   ],
   "source": [
    "# Plot examples\n",
    "plot_data(x_train, y_train[:], pos_label=\"Admitted\", neg_label=\"Not admitted\")\n",
    "\n",
    "# Set the y-axis label\n",
    "plt.ylabel('Exam 2 score') \n",
    "# Set the x-axis label\n",
    "plt.xlabel('Exam 1 score') \n",
    "plt.legend(loc=\"upper right\")\n",
    "plt.show()"
   ]
  },
  {
   "cell_type": "code",
   "execution_count": 24,
   "id": "81744eba",
   "metadata": {},
   "outputs": [
    {
     "data": {
      "text/plain": [
       "Text(0, 0.5, 'Status')"
      ]
     },
     "execution_count": 24,
     "metadata": {},
     "output_type": "execute_result"
    },
    {
     "data": {
      "text/plain": [
       "<Figure size 640x480 with 0 Axes>"
      ]
     },
     "metadata": {},
     "output_type": "display_data"
    },
    {
     "data": {
      "image/png": "[encoded data removed]",
      "text/plain": [
       "<Figure size 640x480 with 2 Axes>"
      ]
     },
     "metadata": {},
     "output_type": "display_data"
    }
   ],
   "source": [
    "f = plt.figure()    \n",
    "f, axes = plt.subplots(nrows = 1, ncols = 2, sharey = True, constrained_layout=True)\n",
    "\n",
    "axes[0].scatter(x_train[:,0], y_train, c = 'r', marker = \".\", s=5)\n",
    "axes[0].set_xlabel('Exam 1 Marks', labelpad = 5)\n",
    "axes[0].set_ylabel('Status', labelpad = 5)\n",
    "\n",
    "axes[1].scatter(x_train[:,1], y_train, c = 'b', marker = \".\", s=5)\n",
    "axes[1].set_xlabel('Exam 2 Marks')\n",
    "axes[1].set_ylabel('Status' )"
   ]
  },
  {
   "cell_type": "markdown",
   "id": "977d2c97",
   "metadata": {},
   "source": [
    "<a name=\"2.3\"></a>\n",
    "### 2.3  Sigmoid function\n",
    "\n",
    "For logistic Regression, we define our model as:\n",
    "\n",
    "$$ f_{\\mathbf{w},b}(x) = g(\\mathbf{w}\\cdot \\mathbf{x} + b)$$\n",
    "where function $g$ is the sigmoid function. The sigmoid function is defined as:\n",
    "\n",
    "$$g(z) = \\frac{1}{1+e^{-z}}$$\n",
    "\n",
    "Let's implement the sigmoid function first, so it can be used later on.\n",
    "\n"
   ]
  },
  {
   "cell_type": "code",
   "execution_count": 25,
   "id": "e06429f9",
   "metadata": {},
   "outputs": [],
   "source": [
    "def sigmoid(z):\n",
    "    sig = 1 / (1+np.exp(-z))\n",
    "    return sig;"
   ]
  },
  {
   "cell_type": "markdown",
   "id": "c110083b",
   "metadata": {},
   "source": [
    "<a name=\"2.4\"></a>\n",
    "### 2.4 Cost function for logistic regression\n",
    "\n",
    "Here, we will define our cost function for logistic regression\n",
    "\n",
    "<a name='ex-02'></a>\n",
    "\n",
    "For logistic regression, the cost function is of the form \n",
    "\n",
    "$$ J(\\mathbf{w},b) = \\frac{1}{m}\\sum_{i=0}^{m-1} \\left[ loss(f_{\\mathbf{w},b}(\\mathbf{x}^{(i)}), y^{(i)}) \\right] \\tag{1}$$\n",
    "\n",
    "where\n",
    "* m is the number of training examples in the dataset\n",
    "\n",
    "\n",
    "* $loss(f_{\\mathbf{w},b}(\\mathbf{x}^{(i)}), y^{(i)})$ is the cost for a single data point, which is - \n",
    "\n",
    "    $$loss(f_{\\mathbf{w},b}(\\mathbf{x}^{(i)}), y^{(i)}) = (-y^{(i)} \\log\\left(f_{\\mathbf{w},b}\\left( \\mathbf{x}^{(i)} \\right) \\right) - \\left( 1 - y^{(i)}\\right) \\log \\left( 1 - f_{\\mathbf{w},b}\\left( \\mathbf{x}^{(i)} \\right) \\right) \\tag{2}$$\n",
    "    \n",
    "    \n",
    "*  $f_{\\mathbf{w},b}(\\mathbf{x}^{(i)})$ is the model's prediction, while $y^{(i)}$, which is the actual label\n",
    "\n",
    "*  $f_{\\mathbf{w},b}(\\mathbf{x}^{(i)}) = g(\\mathbf{w} \\cdot \\mathbf{x^{(i)}} + b)$ where function $g$ is the sigmoid function.\n",
    "    * It might be helpful to first calculate an intermediate variable $z_{\\mathbf{w},b}(\\mathbf{x}^{(i)}) = \\mathbf{w} \\cdot \\mathbf{x^{(i)}} + b = w_0x^{(i)}_0 + ... + w_{n-1}x^{(i)}_{n-1} + b$ where $n$ is the number of features, before calculating $f_{\\mathbf{w},b}(\\mathbf{x}^{(i)}) = g(z_{\\mathbf{w},b}(\\mathbf{x}^{(i)}))$\n",
    "\n",
    "Note:\n",
    "* As you are doing this, remember that the variables `X_train` and `y_train` are not scalar values but matrices of shape ($m, n$) and ($𝑚$,1) respectively, where  $𝑛$ is the number of features and $𝑚$ is the number of training examples.\n",
    "* You can use the sigmoid function that you implemented above for this part.\n",
    "\n"
   ]
  },
  {
   "cell_type": "code",
   "execution_count": 26,
   "id": "cba2b441",
   "metadata": {},
   "outputs": [],
   "source": [
    "def loss(y,yhat):\n",
    "    return (-y*np.log(yhat) - (1-y)*np.log(1-yhat))"
   ]
  },
  {
   "cell_type": "code",
   "execution_count": 27,
   "id": "fd4a5f30",
   "metadata": {},
   "outputs": [],
   "source": [
    "def compute_cost(X,y,w,b,lambda_=1):\n",
    "    m,n = X.shape\n",
    "    \n",
    "    cost=0\n",
    "    \n",
    "    for i in range(m):\n",
    "        f_wb_init = np.dot(X[i],w)+b\n",
    "        f_wb = sigmoid(f_wb_init)\n",
    "        loss_func = loss(y[i],f_wb)\n",
    "        cost += loss_func\n",
    "    cost = cost/m\n",
    "    return cost"
   ]
  },
  {
   "cell_type": "markdown",
   "id": "51af2f09",
   "metadata": {},
   "source": [
    "<a name=\"2.5\"></a>\n",
    "### 2.5 Gradient for logistic regression\n",
    "\n",
    "In this section, we will implement the gradient for logistic regression.\n",
    "\n",
    "Gradient descent algorithm is:\n",
    "\n",
    "$$\\begin{align*}& \\text{repeat until convergence:} \\; \\lbrace \\newline \\; & b := b -  \\alpha \\frac{\\partial J(\\mathbf{w},b)}{\\partial b} \\newline       \\; & w_j := w_j -  \\alpha \\frac{\\partial J(\\mathbf{w},b)}{\\partial w_j} \\tag{1}  \\; & \\text{for j := 0..n-1}\\newline & \\rbrace\\end{align*}$$\n",
    "\n",
    "where, parameters $b$, $w_j$ are all updated simultaniously"
   ]
  },
  {
   "cell_type": "markdown",
   "id": "6757894d",
   "metadata": {},
   "source": [
    "\n",
    "<a name='ex-03'></a>\n",
    "### Exercise 3\n",
    "\n",
    "We will make a `compute_gradient` function to compute $\\frac{\\partial J(\\mathbf{w},b)}{\\partial w}$, $\\frac{\\partial J(\\mathbf{w},b)}{\\partial b}$ from equations (2) and (3) below.\n",
    "\n",
    "$$\n",
    "\\frac{\\partial J(\\mathbf{w},b)}{\\partial b}  = \\frac{1}{m} \\sum\\limits_{i = 0}^{m-1} (f_{\\mathbf{w},b}(\\mathbf{x}^{(i)}) - \\mathbf{y}^{(i)}) \\tag{2}\n",
    "$$\n",
    "$$\n",
    "\\frac{\\partial J(\\mathbf{w},b)}{\\partial w_j}  = \\frac{1}{m} \\sum\\limits_{i = 0}^{m-1} (f_{\\mathbf{w},b}(\\mathbf{x}^{(i)}) - \\mathbf{y}^{(i)})x_{j}^{(i)} \\tag{3}\n",
    "$$\n",
    "* m is the number of training examples in the dataset\n",
    "\n",
    "    \n",
    "*  $f_{\\mathbf{w},b}(x^{(i)})$ is the model's prediction, while $y^{(i)}$ is the actual label\n",
    "\n",
    "\n",
    "- **Note**: While this gradient looks identical to the linear regression gradient, the formula is actually different because linear and logistic regression have different definitions of $f_{\\mathbf{w},b}(x)$.\n"
   ]
  },
  {
   "cell_type": "code",
   "execution_count": 41,
   "id": "d1e160c6",
   "metadata": {},
   "outputs": [],
   "source": [
    "def compute_gradient(X,y,w,b,lambda_=None):\n",
    "    m, n = X.shape\n",
    "    dj_dw = np.zeros(w.shape)\n",
    "    dj_db = 0.\n",
    "    \n",
    "    for i in range(m):\n",
    "        for i in range(m):\n",
    "            f_wb_i = sigmoid(np.dot(X[i],w) + b)          \n",
    "            err_i  = f_wb_i  - y[i]                       \n",
    "            for j in range(n):\n",
    "                dj_dw[j] = dj_dw[j] + err_i * X[i,j]      \n",
    "            dj_db = dj_db + err_i\n",
    "        dj_dw = dj_dw/m                                   \n",
    "        dj_db = dj_db/m        \n",
    "    \n",
    "        return dj_db, dj_dw\n",
    "            "
   ]
  },
  {
   "cell_type": "markdown",
   "id": "0898dca5",
   "metadata": {},
   "source": [
    "<a name=\"2.6\"></a>\n",
    "### 2.6 Learning parameters using gradient descent \n",
    "\n",
    "Similar to the previous assignment, we will now find the optimal parameters of a logistic regression model by using gradient descent. \n",
    "\n",
    "- A good way to verify that gradient descent is working correctly is to look\n",
    "at the value of $J(\\mathbf{w},b)$ and check that it is decreasing with each step. \n",
    "\n",
    "- Assuming we have implemented the gradient and computed the cost correctly, your value of $J(\\mathbf{w},b)$ should never increase, and should converge to a steady value by the end of the algorithm."
   ]
  },
  {
   "cell_type": "code",
   "execution_count": 48,
   "id": "a4587bfe",
   "metadata": {},
   "outputs": [],
   "source": [
    "def gradient_descent(X, y, w_in, b_in, cost_function, gradient_function, alpha, num_iters, lambda_): \n",
    "    m,n = x.shape;\n",
    "    \n",
    "    # An array to store cost J and w's at each iteration primarily for graphing later\n",
    "    J_history = []\n",
    "    w_history = []\n",
    "    \n",
    "    for i in range(num_iters):\n",
    "        dj_db, dj_dw = gradient_function(X,y,w_in,b_in,lambda_)\n",
    "        \n",
    "        w_in = w_in - alpha*dj_dw\n",
    "        b_in = b_in - alpha*dj_db\n",
    "        \n",
    "        # Save cost J at each iteration\n",
    "        if i<100000:      # prevent resource exhaustion \n",
    "            cost =  cost_function(X, y, w_in, b_in, lambda_)\n",
    "            J_history.append(cost)\n",
    "\n",
    "        # Print cost every at intervals 10 times or as many iterations if < 10\n",
    "        if i% math.ceil(num_iters/10) == 0 or i == (num_iters-1):\n",
    "            w_history.append(w_in)\n",
    "            print(f\"Iteration {i:4}: Cost {float(J_history[-1]):8.2f}   \")\n",
    "        \n",
    "    return w_in, b_in, J_history, w_history #return w and J,w history for graphing"
   ]
  },
  {
   "cell_type": "markdown",
   "id": "32957d7f",
   "metadata": {},
   "source": [
    "Now let's run the gradient descent algorithm above to learn the parameters for our dataset.\n",
    "\n",
    "**Note**\n",
    "\n",
    "The code block below takes a couple of minutes to run, especially with a non-vectorized version. You can reduce the `iterations` to test your implementation and iterate faster. If you have time later, try running 100,000 iterations for better results."
   ]
  },
  {
   "cell_type": "code",
   "execution_count": 49,
   "id": "bbc4ffc7",
   "metadata": {},
   "outputs": [
    {
     "name": "stdout",
     "output_type": "stream",
     "text": [
      "Iteration    0: Cost     0.87   \n",
      "Iteration 1000: Cost     0.29   \n",
      "Iteration 2000: Cost     0.29   \n",
      "Iteration 3000: Cost     0.29   \n",
      "Iteration 4000: Cost     0.28   \n",
      "Iteration 5000: Cost     0.28   \n",
      "Iteration 6000: Cost     0.28   \n",
      "Iteration 7000: Cost     0.28   \n",
      "Iteration 8000: Cost     0.28   \n",
      "Iteration 9000: Cost     0.28   \n",
      "Iteration 9999: Cost     0.28   \n"
     ]
    }
   ],
   "source": [
    "np.random.seed(1)\n",
    "intial_w = 0.01 * (np.random.rand(2).reshape(-1,1) - 0.5)\n",
    "initial_b = -8\n",
    "\n",
    "\n",
    "# Some gradient descent settings\n",
    "iterations = 10000\n",
    "alpha = 0.001\n",
    "\n",
    "w,b, J_history,_ = gradient_descent(x_train ,y_train, initial_w, initial_b, \n",
    "                                   compute_cost, compute_gradient, alpha, iterations, 0)"
   ]
  },
  {
   "cell_type": "markdown",
   "id": "b5e6883f",
   "metadata": {},
   "source": [
    "<a name=\"2.7\"></a>\n",
    "### 2.7 Plotting the decision boundary\n",
    "\n",
    "We will now use the final parameters from gradient descent to plot the linear fit. If you implemented the previous parts correctly, you should see the following plot:   \n",
    "<img src=\"images/figure 2.png\"  width=\"450\" height=\"450\">\n",
    "\n",
    "We will use a helper function in the `utils.py` file to create this plot."
   ]
  },
  {
   "cell_type": "code",
   "execution_count": 51,
   "id": "540ef039",
   "metadata": {},
   "outputs": [
    {
     "data": {
      "image/png": "[encoded data removed]",
      "text/plain": [
       "<Figure size 640x480 with 1 Axes>"
      ]
     },
     "metadata": {},
     "output_type": "display_data"
    }
   ],
   "source": [
    "plot_decision_boundary(w, b, x_train, y_train)"
   ]
  },
  {
   "cell_type": "markdown",
   "id": "1d4ea8b8",
   "metadata": {},
   "source": [
    "<a name=\"2.8\"></a>\n",
    "### 2.8 Evaluating logistic regression\n",
    "\n",
    "We can evaluate the quality of the parameters we have found by seeing how well the learned model predicts on our training set. \n",
    "\n",
    "we will implement the `predict` function below to do this.\n"
   ]
  },
  {
   "cell_type": "markdown",
   "id": "e02e04f9",
   "metadata": {},
   "source": [
    "<a name='ex-04'></a>\n",
    "\n",
    "We will make a `predict` function to produce `1` or `0` predictions given a dataset and a learned parameter vector $w$ and $b$.\n",
    "- First we need to compute the prediction from the model $f(x^{(i)}) = g(w \\cdot x^{(i)} + b)$ for every example \n",
    "    - we've implemented this before in the parts above\n",
    "- We interpret the output of the model ($f(x^{(i)})$) as the probability that $y^{(i)}=1$ given $x^{(i)}$ and parameterized by $w$.\n",
    "- Therefore, to get a final prediction ($y^{(i)}=0$ or $y^{(i)}=1$) from the logistic regression model, we can use the following heuristic -\n",
    "\n",
    "  if $f(x^{(i)}) >= 0.5$, predict $y^{(i)}=1$\n",
    "  \n",
    "  if $f(x^{(i)}) < 0.5$, predict $y^{(i)}=0$\n",
    "    "
   ]
  },
  {
   "cell_type": "code",
   "execution_count": 54,
   "id": "7563c5d7",
   "metadata": {},
   "outputs": [],
   "source": [
    "def predict (X,w,b):\n",
    "    # number of training examples\n",
    "    m, n = X.shape   \n",
    "    p = np.zeros(m)\n",
    "   \n",
    "\n",
    "    # Loop over each example\n",
    "    for i in range(m):   \n",
    "        z_wb = np.dot(X[i],w) \n",
    "        # Loop over each feature\n",
    "        for j in range(n): \n",
    "            # Add the corresponding term to z_wb\n",
    "            z_wb += 0\n",
    "        \n",
    "        # Add bias term \n",
    "        z_wb += b\n",
    "        \n",
    "        # Calculate the prediction for this example\n",
    "        f_wb = sigmoid(z_wb)\n",
    "\n",
    "        # Apply the threshold\n",
    "        p[i] = 1 if f_wb>0.5 else 0\n",
    "        \n",
    "\n",
    "    return p"
   ]
  },
  {
   "cell_type": "code",
   "execution_count": 56,
   "id": "f93fbec0",
   "metadata": {},
   "outputs": [
    {
     "name": "stdout",
     "output_type": "stream",
     "text": [
      "Train Accuracy: 91.666667\n"
     ]
    }
   ],
   "source": [
    "#Compute accuracy on our training set\n",
    "p = predict(x_train, w,b)\n",
    "print('Train Accuracy: %f'%(np.mean(p == y_train) * 100))"
   ]
  },
  {
   "cell_type": "code",
   "execution_count": null,
   "id": "37de87f6",
   "metadata": {},
   "outputs": [],
   "source": []
  }
 ],
 "metadata": {
  "kernelspec": {
   "display_name": "Python 3 (ipykernel)",
   "language": "python",
   "name": "python3"
  },
  "language_info": {
   "codemirror_mode": {
    "name": "ipython",
    "version": 3
   },
   "file_extension": ".py",
   "mimetype": "text/x-python",
   "name": "python",
   "nbconvert_exporter": "python",
   "pygments_lexer": "ipython3",
   "version": "3.9.13"
  }
 },
 "nbformat": 4,
 "nbformat_minor": 5
}
