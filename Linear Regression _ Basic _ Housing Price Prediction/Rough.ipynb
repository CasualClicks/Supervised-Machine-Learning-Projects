{
 "cells": [
  {
   "cell_type": "code",
   "execution_count": 2,
   "id": "c7175d86",
   "metadata": {},
   "outputs": [],
   "source": [
    "import numpy as np\n"
   ]
  },
  {
   "cell_type": "code",
   "execution_count": 7,
   "id": "6fd480fa",
   "metadata": {},
   "outputs": [
    {
     "name": "stdout",
     "output_type": "stream",
     "text": [
      "[11. 17. 23.]\n"
     ]
    }
   ],
   "source": [
    "a = np.array([1, 2])\n",
    "w = np.array([[3,4],[5,6], [7,8]])\n",
    "\n",
    "a_out = np.zeros(len(w))\n",
    "for i in range(len(w)):\n",
    "    W = w[i,:]\n",
    "    z = np.dot(a,W)\n",
    "    a_out[i] = z\n",
    "print(a_out)"
   ]
  },
  {
   "cell_type": "code",
   "execution_count": 11,
   "id": "363fc657",
   "metadata": {},
   "outputs": [
    {
     "name": "stdout",
     "output_type": "stream",
     "text": [
      "4\n"
     ]
    },
    {
     "data": {
      "text/plain": [
       "array([12, 13, 14])"
      ]
     },
     "execution_count": 11,
     "metadata": {},
     "output_type": "execute_result"
    }
   ],
   "source": [
    "a_in = np.arange(1,3,1)\n",
    "W = np.array([[3, 6, 9, 12],\n",
    "             [4, 7, 10, 13]])\n",
    "\n",
    "units = W.shape[1]\n",
    "print(units)\n",
    "for i in range(units):\n",
    "    w = W[:,i]\n",
    "\n"
   ]
  },
  {
   "cell_type": "code",
   "execution_count": null,
   "id": "44ce4cce",
   "metadata": {},
   "outputs": [],
   "source": []
  }
 ],
 "metadata": {
  "kernelspec": {
   "display_name": "Python 3 (ipykernel)",
   "language": "python",
   "name": "python3"
  },
  "language_info": {
   "codemirror_mode": {
    "name": "ipython",
    "version": 3
   },
   "file_extension": ".py",
   "mimetype": "text/x-python",
   "name": "python",
   "nbconvert_exporter": "python",
   "pygments_lexer": "ipython3",
   "version": "3.9.13"
  }
 },
 "nbformat": 4,
 "nbformat_minor": 5
}
